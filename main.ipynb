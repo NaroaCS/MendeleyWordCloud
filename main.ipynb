{
 "cells": [
  {
   "cell_type": "code",
   "execution_count": 3,
   "metadata": {},
   "outputs": [],
   "source": [
    "import bibtexparser"
   ]
  },
  {
   "cell_type": "code",
   "execution_count": 20,
   "metadata": {},
   "outputs": [
    {
     "name": "stderr",
     "output_type": "stream",
     "text": [
      "Entry type generic not standard. Not considered.\n",
      "Entry type generic not standard. Not considered.\n",
      "Entry type generic not standard. Not considered.\n",
      "Entry type generic not standard. Not considered.\n",
      "Entry type generic not standard. Not considered.\n"
     ]
    }
   ],
   "source": [
    "#  Input databases \n",
    "with open('./ImportFiles/Main.bib') as bibtex_file:\n",
    "    bib_main = bibtexparser.load(bibtex_file)\n",
    "\n",
    "with open('./ImportFiles/Contextual.bib') as bibtex_file:\n",
    "    bib_contextual = bibtexparser.load(bibtex_file)\n",
    "\n",
    "with open('./ImportFiles/Contextual.bib') as bibtex_file:\n",
    "    bib_technical = bibtexparser.load(bibtex_file)"
   ]
  },
  {
   "cell_type": "code",
   "execution_count": 23,
   "metadata": {},
   "outputs": [],
   "source": [
    "df=open('main.txt','w')\n",
    "\n",
    "# extract titles of concrete entries but not proceedings titles and clean the titles\n",
    "for entry in bib_main.entries:\n",
    "    abstract = entry['abstract'].replace(\"{\",\" \").replace(\"}\",\" \").replace(\"\\n\",\" \").replace(\"/\",\"\")\n",
    "    df.write(abstract)\n",
    "    df.write('\\n')"
   ]
  },
  {
   "cell_type": "code",
   "execution_count": 15,
   "metadata": {},
   "outputs": [],
   "source": [
    "from wordcloud import WordCloud\n",
    "import matplotlib.pyplot as plt"
   ]
  }
 ],
 "metadata": {
  "kernelspec": {
   "display_name": "py36",
   "language": "python",
   "name": "python3"
  },
  "language_info": {
   "codemirror_mode": {
    "name": "ipython",
    "version": 3
   },
   "file_extension": ".py",
   "mimetype": "text/x-python",
   "name": "python",
   "nbconvert_exporter": "python",
   "pygments_lexer": "ipython3",
   "version": "3.6.10"
  },
  "orig_nbformat": 4
 },
 "nbformat": 4,
 "nbformat_minor": 2
}
